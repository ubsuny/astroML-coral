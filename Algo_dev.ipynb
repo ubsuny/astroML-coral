{
 "cells": [
  {
   "cell_type": "code",
   "execution_count": 57,
   "metadata": {},
   "outputs": [],
   "source": [
    "import tensorflow as tf\n",
    "import matplotlib.pyplot as plt\n",
    "import numpy as np\n",
    "import pandas as pd\n",
    "from tensorflow import keras\n",
    "from keras.models import Sequential\n",
    "from keras.layers import Dense\n",
    "\n",
    "import csv\n",
    "import sys\n",
    "sys.path.append('../astroML-coral/Tools')\n",
    "sys.path.append('../astroML-coral/Data')\n",
    "import datascrub as scrub\n",
    "import mldataconfig as dtc\n",
    "from astropy.io import fits\n",
    "import numpy as np\n",
    "import pprint\n"
   ]
  },
  {
   "cell_type": "code",
   "execution_count": 58,
   "metadata": {},
   "outputs": [
    {
     "name": "stdout",
     "output_type": "stream",
     "text": [
      "Python: 3.8.8 (tags/v3.8.8:024d805, Feb 19 2021, 13:18:16) [MSC v.1928 64 bit (AMD64)]\n",
      "tensorflow: 2.4.1\n",
      "keras: 2.4.0\n",
      "pandas: 1.2.3\n"
     ]
    }
   ],
   "source": [
    "import sys\n",
    "print(\"Python: {}\".format(sys.version))\n",
    "print(\"tensorflow: {}\".format(tf.__version__))\n",
    "print(\"keras: {}\".format(keras.__version__))\n",
    "print(\"pandas: {}\".format(pd.__version__))"
   ]
  },
  {
   "cell_type": "code",
   "execution_count": 117,
   "metadata": {},
   "outputs": [
    {
     "data": {
      "text/plain": [
       "(11828, 4372)"
      ]
     },
     "execution_count": 117,
     "metadata": {},
     "output_type": "execute_result"
    }
   ],
   "source": [
    "traindat = pd.read_csv(\"data1.csv\")\n",
    "#traindat[(traindat != \"Nan\").all(1)]\n",
    "train = traindat.to_numpy()\n",
    "testdat = pd.read_csv(\"data2.csv\")\n",
    "#testdat[(testdat != \"Nan\").all(1)]\n",
    "test = testdat.to_numpy()\n",
    "\n",
    "\n",
    "\n",
    "train.shape\n",
    "test.shape"
   ]
  },
  {
   "cell_type": "code",
   "execution_count": 109,
   "metadata": {},
   "outputs": [],
   "source": [
    "def normalize(data):\n",
    "    data_mean = data.mean(axis=0)\n",
    "    data_std = data.std(axis=0)\n",
    "    return (data - data_mean) / data_std\n",
    "\n",
    "#train = normalize(train)\n",
    "#test = normalize(test)"
   ]
  },
  {
   "cell_type": "code",
   "execution_count": 118,
   "metadata": {},
   "outputs": [
    {
     "name": "stdout",
     "output_type": "stream",
     "text": [
      "Train dataset shape: (4999, 4134)\n",
      "Train-res dataset shape: (4999,)\n"
     ]
    }
   ],
   "source": [
    "x = train[:,2:]\n",
    "y = train[:,1]\n",
    "test_x = test[:,2:]\n",
    "test_y = test[:,1]\n",
    "x = x[:, ~np.isnan(x).any(axis=0)]\n",
    "x = normalize(x)\n",
    "\n",
    "test_x =test_x[:, ~np.isnan(test_x).any(axis=0)]\n",
    "\n",
    "test_x = normalize(test_x)\n",
    "print(f\"Train dataset shape: {x.shape}\")\n",
    "print(f\"Train-res dataset shape: {y.shape}\")"
   ]
  },
  {
   "cell_type": "code",
   "execution_count": 119,
   "metadata": {},
   "outputs": [
    {
     "name": "stdout",
     "output_type": "stream",
     "text": [
      "Train dataset shape: (4999, 4134)\n",
      "Train-res dataset shape: (4999,)\n",
      "Train dataset shape: (11828, 4134)\n",
      "Train-res dataset shape: (11828,)\n"
     ]
    }
   ],
   "source": [
    "print(f\"Train dataset shape: {x.shape}\")\n",
    "print(f\"Train-res dataset shape: {y.shape}\")\n",
    "print(f\"Train dataset shape: {test_x.shape}\")\n",
    "print(f\"Train-res dataset shape: {test_y.shape}\")"
   ]
  },
  {
   "cell_type": "code",
   "execution_count": 120,
   "metadata": {},
   "outputs": [
    {
     "name": "stdout",
     "output_type": "stream",
     "text": [
      "array([3., 0., 0., 0., 0., 0., 0.])\n"
     ]
    }
   ],
   "source": [
    "pprint.pp(test_y[53:60])"
   ]
  },
  {
   "cell_type": "code",
   "execution_count": 131,
   "metadata": {},
   "outputs": [
    {
     "name": "stdout",
     "output_type": "stream",
     "text": [
      "Epoch 1/20\n",
      "157/157 [==============================] - 1s 2ms/step - loss: 0.5293 - accuracy: 0.9111\n",
      "Epoch 2/20\n",
      "157/157 [==============================] - 0s 2ms/step - loss: 0.3588 - accuracy: 0.9507\n",
      "Epoch 3/20\n",
      "157/157 [==============================] - 0s 2ms/step - loss: 0.3481 - accuracy: 0.9523\n",
      "Epoch 4/20\n",
      "157/157 [==============================] - 0s 2ms/step - loss: 0.5305 - accuracy: 0.9414\n",
      "Epoch 5/20\n",
      "157/157 [==============================] - 0s 2ms/step - loss: 0.3113 - accuracy: 0.9518\n",
      "Epoch 6/20\n",
      "157/157 [==============================] - 0s 2ms/step - loss: 0.3932 - accuracy: 0.9510\n",
      "Epoch 7/20\n",
      "157/157 [==============================] - 0s 2ms/step - loss: 0.6475 - accuracy: 0.9515\n",
      "Epoch 8/20\n",
      "157/157 [==============================] - 0s 2ms/step - loss: 0.5688 - accuracy: 0.9491\n",
      "Epoch 9/20\n",
      "157/157 [==============================] - 0s 2ms/step - loss: 0.3684 - accuracy: 0.9489\n",
      "Epoch 10/20\n",
      "157/157 [==============================] - 0s 2ms/step - loss: 0.2991 - accuracy: 0.9468\n",
      "Epoch 11/20\n",
      "157/157 [==============================] - 0s 2ms/step - loss: 0.2792 - accuracy: 0.9502\n",
      "Epoch 12/20\n",
      "157/157 [==============================] - 0s 2ms/step - loss: 0.3094 - accuracy: 0.9474\n",
      "Epoch 13/20\n",
      "157/157 [==============================] - 0s 2ms/step - loss: 0.2919 - accuracy: 0.9494\n",
      "Epoch 14/20\n",
      "157/157 [==============================] - 0s 2ms/step - loss: 0.8762 - accuracy: 0.9502\n",
      "Epoch 15/20\n",
      "157/157 [==============================] - 0s 2ms/step - loss: 0.3435 - accuracy: 0.9486\n",
      "Epoch 16/20\n",
      "157/157 [==============================] - 0s 2ms/step - loss: 0.3386 - accuracy: 0.9504\n",
      "Epoch 17/20\n",
      "157/157 [==============================] - 0s 2ms/step - loss: 0.3351 - accuracy: 0.9558\n",
      "Epoch 18/20\n",
      "157/157 [==============================] - 0s 2ms/step - loss: 0.2903 - accuracy: 0.9453\n",
      "Epoch 19/20\n",
      "157/157 [==============================] - 0s 2ms/step - loss: 0.2982 - accuracy: 0.9503\n",
      "Epoch 20/20\n",
      "157/157 [==============================] - 0s 2ms/step - loss: 0.3399 - accuracy: 0.9488\n"
     ]
    },
    {
     "data": {
      "text/plain": [
       "<tensorflow.python.keras.callbacks.History at 0x2b5064c23a0>"
      ]
     },
     "execution_count": 131,
     "metadata": {},
     "output_type": "execute_result"
    }
   ],
   "source": [
    "model = Sequential()\n",
    "model.add(Dense(64))\n",
    "model.add(Dense(128, activation='relu'))\n",
    "model.add(Dense(4))\n",
    "model.compile(optimizer='adam',\n",
    "              loss=tf.keras.losses.SparseCategoricalCrossentropy(from_logits=True),\n",
    "              metrics=['accuracy'])\n",
    "model.fit(x, y, epochs=20)"
   ]
  },
  {
   "cell_type": "code",
   "execution_count": 134,
   "metadata": {},
   "outputs": [
    {
     "name": "stdout",
     "output_type": "stream",
     "text": [
      "Model: \"sequential_39\"\n",
      "_________________________________________________________________\n",
      "Layer (type)                 Output Shape              Param #   \n",
      "=================================================================\n",
      "dense_74 (Dense)             (None, 64)                264640    \n",
      "_________________________________________________________________\n",
      "dense_75 (Dense)             (None, 128)               8320      \n",
      "_________________________________________________________________\n",
      "dense_76 (Dense)             (None, 4)                 516       \n",
      "=================================================================\n",
      "Total params: 273,476\n",
      "Trainable params: 273,476\n",
      "Non-trainable params: 0\n",
      "_________________________________________________________________\n"
     ]
    }
   ],
   "source": [
    "model.summary()\n"
   ]
  },
  {
   "cell_type": "code",
   "execution_count": 132,
   "metadata": {},
   "outputs": [
    {
     "name": "stdout",
     "output_type": "stream",
     "text": [
      "370/370 [==============================] - 0s 977us/step - loss: 0.5482 - accuracy: 0.9592\n",
      "\n",
      "Test accuracy: 0.9592492580413818\n"
     ]
    },
    {
     "data": {
      "text/plain": [
       "array([0.9260877 , 0.02330524, 0.0215577 , 0.02904934], dtype=float32)"
      ]
     },
     "execution_count": 132,
     "metadata": {},
     "output_type": "execute_result"
    }
   ],
   "source": [
    "test_loss, test_acc = model.evaluate(test_x,  test_y, verbose=1)\n",
    "\n",
    "print('\\nTest accuracy:', test_acc)\n",
    "probability_model = tf.keras.Sequential([model,\n",
    "                                     tf.keras.layers.Softmax()])\n",
    "predictions = probability_model.predict(test_x)\n",
    "predictions[54]"
   ]
  },
  {
   "cell_type": "code",
   "execution_count": 133,
   "metadata": {},
   "outputs": [
    {
     "name": "stdout",
     "output_type": "stream",
     "text": [
      "Train Score:  [1.002947211265564, 0.9517903327941895]\n",
      "Train Score:  [0.5482151508331299, 0.9592492580413818]\n",
      "predictions: [[ 3.903813   -6.681203    0.844062   -1.2480245 ]\n",
      " [ 3.993324   -6.8996596   0.90373945 -1.2765431 ]\n",
      " [ 4.163962   -7.3160605   1.0175068  -1.3308969 ]]\n"
     ]
    }
   ],
   "source": [
    "trainScore = model.evaluate(x, y, verbose=0)\n",
    "print(\"Train Score: \", trainScore)\n",
    "testScore = model.evaluate(test_x, test_y, verbose=0)\n",
    "print(\"Train Score: \", testScore)\n",
    "predictions = model.predict(test_x[:3])\n",
    "print(\"predictions:\", predictions)"
   ]
  },
  {
   "cell_type": "code",
   "execution_count": 135,
   "metadata": {},
   "outputs": [
    {
     "name": "stdout",
     "output_type": "stream",
     "text": [
      "INFO:tensorflow:Assets written to: C:\\Users\\BARTEK~1\\AppData\\Local\\Temp\\tmpkrnft53b\\assets\n"
     ]
    }
   ],
   "source": []
  }
 ],
 "metadata": {
  "kernelspec": {
   "display_name": "Python 3",
   "language": "python",
   "name": "python3"
  },
  "language_info": {
   "codemirror_mode": {
    "name": "ipython",
    "version": 3
   },
   "file_extension": ".py",
   "mimetype": "text/x-python",
   "name": "python",
   "nbconvert_exporter": "python",
   "pygments_lexer": "ipython3",
   "version": "3.8.8"
  }
 },
 "nbformat": 4,
 "nbformat_minor": 4
}
