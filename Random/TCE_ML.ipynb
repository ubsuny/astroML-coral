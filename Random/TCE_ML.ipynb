{
 "cells": [
  {
   "cell_type": "code",
   "execution_count": 2,
   "metadata": {},
   "outputs": [],
   "source": [
    "import tensorflow as tf\n",
    "import matplotlib.pyplot as plt\n",
    "import numpy as np\n",
    "import pandas as pd\n",
    "from keras.models import Sequential\n",
    "from keras.layers import Dense"
   ]
  },
  {
   "cell_type": "code",
   "execution_count": 3,
   "metadata": {},
   "outputs": [
    {
     "name": "stdout",
     "output_type": "stream",
     "text": [
      "[[2.3041680e+06 2.0000000e+00 0.0000000e+00 ... 9.3080000e-01\n",
      "  3.8710000e-02 1.3220000e+01]\n",
      " [2.3042350e+06 1.0000000e+00 0.0000000e+00 ... 9.0000000e-01\n",
      "  2.6870000e-01 1.1600000e+00]\n",
      " [2.3045660e+06 1.0000000e+00 0.0000000e+00 ... 3.0850000e-01\n",
      "  4.5490000e+01 5.2360000e+00]\n",
      " ...\n",
      " [1.1922283e+07 4.0000000e+00 0.0000000e+00 ... 1.0000000e+00\n",
      "  1.5830000e-01 8.5340000e+00]\n",
      " [1.1922290e+07 1.0000000e+00 0.0000000e+00 ... 8.4790000e-01\n",
      "  2.5640000e+00 2.7430000e+00]\n",
      " [1.1922648e+07 1.0000000e+00 0.0000000e+00 ... 6.7870000e-01\n",
      "  1.4160000e+00 2.9520000e+00]]\n"
     ]
    }
   ],
   "source": [
    "data = pd.read_csv(\"D:\\ML_Exoplanet\\Data\\exoplanet_dat.csv\")\n",
    "data.head()\n",
    "data2 = data.to_numpy()\n",
    "print(data2[:,0:10])"
   ]
  },
  {
   "cell_type": "code",
   "execution_count": 40,
   "metadata": {},
   "outputs": [
    {
     "name": "stdout",
     "output_type": "stream",
     "text": [
      "[ 2.  1.  1.  1.  2. 10.  1.  1.  1.  1.]\n"
     ]
    }
   ],
   "source": [
    "#inputs\n",
    "x = data2[:30000, 3:27]\n",
    "#outputs\n",
    "y = data2[:30000,1]\n",
    "#34033\n",
    "\n",
    "test_x = data2[30000:, 3:27]\n",
    "test_y = data2[30000:, 1]\n",
    "print(y[ 0:10])"
   ]
  },
  {
   "cell_type": "code",
   "execution_count": 56,
   "metadata": {},
   "outputs": [
    {
     "name": "stdout",
     "output_type": "stream",
     "text": [
      "Epoch 1/20\n",
      "938/938 [==============================] - 1s 671us/step - loss: 1.8927 - accuracy: 0.4316\n",
      "Epoch 2/20\n",
      "938/938 [==============================] - 1s 696us/step - loss: 1.5030 - accuracy: 0.5090\n",
      "Epoch 3/20\n",
      "938/938 [==============================] - 1s 696us/step - loss: 1.5166 - accuracy: 0.5028\n",
      "Epoch 4/20\n",
      "938/938 [==============================] - 1s 740us/step - loss: 1.5060 - accuracy: 0.5109\n",
      "Epoch 5/20\n",
      "938/938 [==============================] - 1s 693us/step - loss: 1.5135 - accuracy: 0.5069\n",
      "Epoch 6/20\n",
      "938/938 [==============================] - 1s 687us/step - loss: 1.5213 - accuracy: 0.5024\n",
      "Epoch 7/20\n",
      "938/938 [==============================] - 1s 659us/step - loss: 1.5129 - accuracy: 0.5073\n",
      "Epoch 8/20\n",
      "938/938 [==============================] - 1s 684us/step - loss: 1.5109 - accuracy: 0.5094\n",
      "Epoch 9/20\n",
      "938/938 [==============================] - 1s 687us/step - loss: 1.5078 - accuracy: 0.5092\n",
      "Epoch 10/20\n",
      "938/938 [==============================] - 1s 714us/step - loss: 1.5060 - accuracy: 0.5098\n",
      "Epoch 11/20\n",
      "938/938 [==============================] - 1s 696us/step - loss: 1.5001 - accuracy: 0.5127\n",
      "Epoch 12/20\n",
      "938/938 [==============================] - 1s 684us/step - loss: 1.5052 - accuracy: 0.5096\n",
      "Epoch 13/20\n",
      "938/938 [==============================] - 1s 700us/step - loss: 1.5147 - accuracy: 0.5090\n",
      "Epoch 14/20\n",
      "938/938 [==============================] - 1s 682us/step - loss: 1.5099 - accuracy: 0.5087\n",
      "Epoch 15/20\n",
      "938/938 [==============================] - 1s 688us/step - loss: 1.5136 - accuracy: 0.5063\n",
      "Epoch 16/20\n",
      "938/938 [==============================] - 1s 689us/step - loss: 1.5089 - accuracy: 0.5065\n",
      "Epoch 17/20\n",
      "938/938 [==============================] - 1s 687us/step - loss: 1.5116 - accuracy: 0.5087\n",
      "Epoch 18/20\n",
      "938/938 [==============================] - 1s 703us/step - loss: 1.5206 - accuracy: 0.5028\n",
      "Epoch 19/20\n",
      "938/938 [==============================] - 1s 708us/step - loss: 1.5018 - accuracy: 0.5110\n",
      "Epoch 20/20\n",
      "938/938 [==============================] - 1s 706us/step - loss: 1.5108 - accuracy: 0.5076\n"
     ]
    },
    {
     "data": {
      "text/plain": [
       "<tensorflow.python.keras.callbacks.History at 0x1db909b6730>"
      ]
     },
     "execution_count": 56,
     "metadata": {},
     "output_type": "execute_result"
    }
   ],
   "source": [
    "model = Sequential()\n",
    "model.add(Dense(30))\n",
    "model.add(Dense(15, activation='softmax'))\n",
    "model.add(Dense(10, activation='relu'))\n",
    "model.add(Dense(11))\n",
    "model.compile(optimizer='adam',\n",
    "              loss=tf.keras.losses.SparseCategoricalCrossentropy(from_logits=True),\n",
    "              metrics=['accuracy'])\n",
    "model.fit(x, y, epochs=20)"
   ]
  },
  {
   "cell_type": "code",
   "execution_count": 58,
   "metadata": {},
   "outputs": [
    {
     "name": "stdout",
     "output_type": "stream",
     "text": [
      "126/126 - 0s - loss: 1.5211 - accuracy: 0.5040\n",
      "\n",
      "Test accuracy: 0.5039682388305664\n"
     ]
    }
   ],
   "source": [
    "test_loss, test_acc = model.evaluate(test_x,  test_y, verbose=2)\n",
    "\n",
    "print('\\nTest accuracy:', test_acc)"
   ]
  },
  {
   "cell_type": "code",
   "execution_count": 64,
   "metadata": {},
   "outputs": [
    {
     "data": {
      "text/plain": [
       "array([1.3823443e-07, 5.2022427e-01, 1.9813006e-01, 1.0705862e-01,\n",
       "       6.0344350e-02, 4.3926578e-02, 2.8649468e-02, 1.9346563e-02,\n",
       "       1.1549690e-02, 6.7538992e-03, 4.0164022e-03], dtype=float32)"
      ]
     },
     "execution_count": 64,
     "metadata": {},
     "output_type": "execute_result"
    }
   ],
   "source": [
    "probability_model = tf.keras.Sequential([model, \n",
    "                                         tf.keras.layers.Softmax()])\n",
    "predictions = probability_model.predict(test_x)\n",
    "predictions[8]"
   ]
  },
  {
   "cell_type": "code",
   "execution_count": null,
   "metadata": {},
   "outputs": [],
   "source": []
  }
 ],
 "metadata": {
  "kernelspec": {
   "display_name": "Python 3",
   "language": "python",
   "name": "python3"
  },
  "language_info": {
   "codemirror_mode": {
    "name": "ipython",
    "version": 3
   },
   "file_extension": ".py",
   "mimetype": "text/x-python",
   "name": "python",
   "nbconvert_exporter": "python",
   "pygments_lexer": "ipython3",
   "version": "3.8.8"
  }
 },
 "nbformat": 4,
 "nbformat_minor": 4
}
