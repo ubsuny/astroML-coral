{
 "cells": [
  {
   "cell_type": "markdown",
   "metadata": {},
   "source": [
    "# Attempted Implementation of TSFresh Timeseries Analysis"
   ]
  },
  {
   "cell_type": "code",
   "execution_count": 1,
   "metadata": {},
   "outputs": [],
   "source": [
    "import matplotlib.pyplot as plt\n",
    "import numpy as np\n",
    "import pandas as pd\n",
    "from tsfresh import extract_features, extract_relevant_features, select_features\n",
    "from tsfresh.utilities.dataframe_functions import impute\n",
    "from tsfresh.feature_extraction import settings"
   ]
  },
  {
   "cell_type": "code",
   "execution_count": 2,
   "metadata": {},
   "outputs": [
    {
     "data": {
      "text/plain": [
       "<bound method NDFrame.head of         kepid  tce_plnt_num  tce_rogue_flag  tce_period  tce_period_err  \\\n",
       "0     2304168             2               0  431.719000        0.011803   \n",
       "1     2304235             1               0    0.570607        0.000006   \n",
       "2     2304566             1               0    0.689480        0.000048   \n",
       "3     2304320             1               0   16.540800        0.000043   \n",
       "4     2303365             2               0    0.520697        0.000009   \n",
       "...       ...           ...             ...         ...             ...   \n",
       "2995  3219623             1               0  405.863000        0.011556   \n",
       "2996  3219643             1               0   24.336400        0.000227   \n",
       "2997  3219995             1               0   18.870600        0.000054   \n",
       "2998  3228959             1               0    0.730895        0.000014   \n",
       "2999  3228986             1               0    0.730966        0.000005   \n",
       "\n",
       "      tce_time0bk  tce_time0bk_err  tce_impact  tce_impact_err  tce_duration  \\\n",
       "0         219.298         0.018384      0.9308         0.03871        13.220   \n",
       "1         132.049         0.000699      0.9000         0.26870         1.160   \n",
       "2         131.833         0.019838      0.3085        45.49000         5.236   \n",
       "3         133.952         0.002193      0.8848         0.22350         2.715   \n",
       "4         132.003         0.000916      0.9008         0.41550         1.035   \n",
       "...           ...              ...         ...             ...           ...   \n",
       "2995      522.599         0.017820      0.7294        32.07000         1.665   \n",
       "2996      154.395         0.007861      0.9997         0.21400         4.646   \n",
       "2997      143.957         0.002421      0.8615         0.17420         3.405   \n",
       "2998      132.263         0.005806      0.5085         6.41000         3.522   \n",
       "2999      132.219         0.001638      0.5000         2.21300         2.981   \n",
       "\n",
       "      ...  tce_eqt  tce_eqt_err  tce_insol  tce_insol_err  tce_steff  \\\n",
       "0     ...    494.0        104.0      14.09          11.85       7221   \n",
       "1     ...      0.0         -1.0       0.00          -1.00       4896   \n",
       "2     ...      0.0         -1.0       0.00          -1.00       7059   \n",
       "3     ...    570.0         16.6      24.93           2.91       5064   \n",
       "4     ...      0.0         -1.0       0.00          -1.00       7517   \n",
       "...   ...      ...          ...        ...            ...        ...   \n",
       "2995  ...    306.0         95.5       2.08           2.59       5174   \n",
       "2996  ...    526.0         25.5      18.10           3.51       5141   \n",
       "2997  ...    701.0         75.6      57.04          24.61       6103   \n",
       "2998  ...   1920.0        189.0    3233.86        1269.54       5901   \n",
       "2999  ...   2310.0        128.0    6758.04        1500.95       6238   \n",
       "\n",
       "      tce_steff_err  tce_slogg  tce_slogg_err  tce_sradius  tce_sradius_err  \n",
       "0               327       3.67           0.49        3.332            1.718  \n",
       "1               172       2.12           0.56       26.320           17.390  \n",
       "2               269       3.29           0.43        5.894            2.825  \n",
       "3               101       4.57           0.05        0.769            0.049  \n",
       "4               339       3.64           0.46        3.603            1.762  \n",
       "...             ...        ...            ...          ...              ...  \n",
       "2995            153       3.85           0.76        1.835            1.135  \n",
       "2996            153       4.50           0.09        0.806            0.088  \n",
       "2997            200       4.50           0.23        0.949            0.303  \n",
       "2998            193       4.55           0.20        0.848            0.251  \n",
       "2999             87       4.37           0.12        1.191            0.198  \n",
       "\n",
       "[3000 rows x 26 columns]>"
      ]
     },
     "execution_count": 2,
     "metadata": {},
     "output_type": "execute_result"
    }
   ],
   "source": [
    "dat_read = pd.read_csv(\"D:\\ML_Exoplanet\\Data\\exoplanet_dat.csv\")\n",
    "check = pd.read_csv(\"D:\\ML_Exoplanet\\Data\\cumulative.csv\")\n",
    "data = dat_read[:3000]\n",
    "data.head"
   ]
  },
  {
   "cell_type": "code",
   "execution_count": 3,
   "metadata": {},
   "outputs": [
    {
     "data": {
      "text/plain": [
       "{'sum_values': None,\n",
       " 'median': None,\n",
       " 'mean': None,\n",
       " 'length': None,\n",
       " 'standard_deviation': None,\n",
       " 'variance': None,\n",
       " 'root_mean_square': None,\n",
       " 'maximum': None,\n",
       " 'minimum': None}"
      ]
     },
     "execution_count": 3,
     "metadata": {},
     "output_type": "execute_result"
    }
   ],
   "source": [
    "settings_minimal = settings.MinimalFCParameters() \n",
    "settings_minimal"
   ]
  },
  {
   "cell_type": "code",
   "execution_count": null,
   "metadata": {},
   "outputs": [
    {
     "name": "stderr",
     "output_type": "stream",
     "text": [
      "Feature Extraction:   0%|                                                                       | 0/30 [00:00<?, ?it/s]Exception in thread Thread-8:\n",
      "Traceback (most recent call last):\n",
      "  File \"d:\\python\\lib\\threading.py\", line 932, in _bootstrap_inner\n",
      "    self.run()\n",
      "  File \"d:\\python\\lib\\threading.py\", line 870, in run\n",
      "    self._target(*self._args, **self._kwargs)\n",
      "  File \"d:\\python\\lib\\multiprocessing\\pool.py\", line 576, in _handle_results\n",
      "    task = get()\n",
      "  File \"d:\\python\\lib\\multiprocessing\\connection.py\", line 251, in recv\n",
      "    return _ForkingPickler.loads(buf.getbuffer())\n",
      "MemoryError\n"
     ]
    }
   ],
   "source": [
    "extraction_settings = settings.EfficientFCParameters()\n",
    "\n",
    "features = extract_features(data, column_id='kepid',\n",
    "                     default_fc_parameters=extraction_settings,\n",
    "                     impute_function=impute)"
   ]
  },
  {
   "cell_type": "code",
   "execution_count": null,
   "metadata": {},
   "outputs": [],
   "source": []
  },
  {
   "cell_type": "code",
   "execution_count": null,
   "metadata": {},
   "outputs": [],
   "source": []
  }
 ],
 "metadata": {
  "kernelspec": {
   "display_name": "Python 3",
   "language": "python",
   "name": "python3"
  },
  "language_info": {
   "codemirror_mode": {
    "name": "ipython",
    "version": 3
   },
   "file_extension": ".py",
   "mimetype": "text/x-python",
   "name": "python",
   "nbconvert_exporter": "python",
   "pygments_lexer": "ipython3",
   "version": "3.8.8"
  }
 },
 "nbformat": 4,
 "nbformat_minor": 4
}
