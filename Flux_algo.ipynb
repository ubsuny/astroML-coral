{
 "cells": [
  {
   "cell_type": "markdown",
   "metadata": {},
   "source": [
    "# Machine Learning Algorithm For Identifying Exoplanets in Kepler Data\n",
    "## Status: In progress"
   ]
  },
  {
   "cell_type": "code",
   "execution_count": 1,
   "metadata": {},
   "outputs": [],
   "source": [
    "import tensorflow as tf\n",
    "import matplotlib.pyplot as plt\n",
    "import numpy as np\n",
    "import pandas as pd\n",
    "from keras.models import Sequential\n",
    "from keras.layers import Dense\n",
    "\n",
    "import csv\n",
    "import sys\n",
    "sys.path.append('../astroML-coral/Tools')\n",
    "sys.path.append('../astroML-coral/Data')\n",
    "import datascrub as scrub\n",
    "import mldataconfig as dtc\n",
    "import pprint"
   ]
  },
  {
   "cell_type": "markdown",
   "metadata": {},
   "source": [
    "# Import Data Sets\n",
    "\n",
    "Note: file paths will need to be adjusted based on individual user"
   ]
  },
  {
   "cell_type": "code",
   "execution_count": 2,
   "metadata": {},
   "outputs": [],
   "source": [
    "#scrub.exofinder('testsh17.txt', 'bigtest.csv')\n",
    "#dtc.datasplit('bigtest.csv')\n",
    "\n",
    "traindat = pd.read_csv(\"training.csv\")\n",
    "train = traindat.to_numpy()\n",
    "testdat = pd.read_csv(\"test.csv\")\n",
    "test = testdat.to_numpy()"
   ]
  },
  {
   "cell_type": "code",
   "execution_count": 3,
   "metadata": {},
   "outputs": [
    {
     "data": {
      "text/plain": [
       "(9244, 4372)"
      ]
     },
     "execution_count": 3,
     "metadata": {},
     "output_type": "execute_result"
    }
   ],
   "source": [
    "train.shape\n",
    "test.shape"
   ]
  },
  {
   "cell_type": "markdown",
   "metadata": {},
   "source": [
    "# Setup\n",
    "\n",
    "Flux values set as array of inputs for the model, the binary yes/no of is there an exoplanet is set as the output array\n",
    "This is also done on the test data to prep for later "
   ]
  },
  {
   "cell_type": "code",
   "execution_count": 4,
   "metadata": {},
   "outputs": [
    {
     "name": "stdout",
     "output_type": "stream",
     "text": [
      "Train dataset shape: (99998, 1)\n",
      "Train-res dataset shape: (99998,)\n"
     ]
    }
   ],
   "source": [
    "x = train[:,2:]\n",
    "y = train[:,1]\n",
    "test_x = test[:,1:]\n",
    "test_y = test[:,0]\n",
    "\n",
    "print(f\"Train dataset shape: {x.shape}\")\n",
    "print(f\"Train-res dataset shape: {y.shape}\")"
   ]
  },
  {
   "cell_type": "markdown",
   "metadata": {},
   "source": [
    "# Machine Learning\n",
    "\n",
    "A basic keras sequential model was trained on the provided dataset. The model consisted of an initialization layer, two layers with different activation equations, and an output layer. While the initilization and calculation layers had a rather arbitrary number of nodes that was experimentally deemed \"good enough\", the output layer has only two possible outcomes, yes/no does the system contain an exoplanet. \n",
    "\n",
    "Finally, the model is compiled with Tensorflow's Adam optimizer and a loss function selected for its good performance in this scenario."
   ]
  },
  {
   "cell_type": "code",
   "execution_count": 5,
   "metadata": {},
   "outputs": [
    {
     "name": "stdout",
     "output_type": "stream",
     "text": [
      "Epoch 1/20\n",
      "159/159 [==============================] - 1s 1ms/step - loss: 0.4270 - accuracy: 0.8591\n",
      "Epoch 2/20\n",
      "159/159 [==============================] - 0s 1ms/step - loss: 0.0505 - accuracy: 0.9927\n",
      "Epoch 3/20\n",
      "159/159 [==============================] - 0s 1ms/step - loss: 0.0378 - accuracy: 0.9937\n",
      "Epoch 4/20\n",
      "159/159 [==============================] - 0s 1ms/step - loss: 0.0365 - accuracy: 0.9943\n",
      "Epoch 5/20\n",
      "159/159 [==============================] - 0s 1ms/step - loss: 0.0422 - accuracy: 0.9926\n",
      "Epoch 6/20\n",
      "159/159 [==============================] - 0s 1ms/step - loss: 0.0405 - accuracy: 0.9930\n",
      "Epoch 7/20\n",
      "159/159 [==============================] - 0s 1ms/step - loss: 0.0453 - accuracy: 0.9916\n",
      "Epoch 8/20\n",
      "159/159 [==============================] - 0s 1ms/step - loss: 0.0338 - accuracy: 0.9942\n",
      "Epoch 9/20\n",
      "159/159 [==============================] - 0s 1ms/step - loss: 0.0387 - accuracy: 0.9936\n",
      "Epoch 10/20\n",
      "159/159 [==============================] - 0s 1ms/step - loss: 0.0417 - accuracy: 0.9929\n",
      "Epoch 11/20\n",
      "159/159 [==============================] - 0s 1ms/step - loss: 0.0346 - accuracy: 0.9943\n",
      "Epoch 12/20\n",
      "159/159 [==============================] - 0s 1ms/step - loss: 0.0447 - accuracy: 0.9922\n",
      "Epoch 13/20\n",
      "159/159 [==============================] - 0s 1ms/step - loss: 0.0353 - accuracy: 0.9939\n",
      "Epoch 14/20\n",
      "159/159 [==============================] - 0s 1ms/step - loss: 0.0392 - accuracy: 0.9928\n",
      "Epoch 15/20\n",
      "159/159 [==============================] - 0s 1ms/step - loss: 0.0397 - accuracy: 0.9931\n",
      "Epoch 16/20\n",
      "159/159 [==============================] - 0s 1ms/step - loss: 0.0576 - accuracy: 0.9894\n",
      "Epoch 17/20\n",
      "159/159 [==============================] - 0s 1ms/step - loss: 0.0392 - accuracy: 0.9933\n",
      "Epoch 18/20\n",
      "159/159 [==============================] - 0s 1ms/step - loss: 0.0341 - accuracy: 0.9944\n",
      "Epoch 19/20\n",
      "159/159 [==============================] - 0s 1ms/step - loss: 0.0463 - accuracy: 0.9916\n",
      "Epoch 20/20\n",
      "159/159 [==============================] - 0s 1ms/step - loss: 0.0510 - accuracy: 0.9906\n"
     ]
    },
    {
     "data": {
      "text/plain": [
       "<tensorflow.python.keras.callbacks.History at 0x29205420c70>"
      ]
     },
     "execution_count": 5,
     "metadata": {},
     "output_type": "execute_result"
    }
   ],
   "source": [
    "model = Sequential()\n",
    "model.add(Dense(64))\n",
    "model.add(Dense(64, activation='softmax'))\n",
    "model.add(Dense(64, activation='relu'))\n",
    "model.add(Dense(2))\n",
    "model.compile(optimizer='adam',\n",
    "              loss=tf.keras.losses.SparseCategoricalCrossentropy(from_logits=True),\n",
    "              metrics=['accuracy'])\n",
    "model.fit(x, y, epochs=20)"
   ]
  },
  {
   "cell_type": "markdown",
   "metadata": {},
   "source": [
    "# Analysis\n",
    "\n",
    "The machine learning algorithm hits its peak accuracy relatively quickly, with every run I've done hitting ~99% within the first three epochs. Running this on the test data set results in the same 99% accuracy, showing that the data is being properly processed and not over or under-sampled."
   ]
  },
  {
   "cell_type": "code",
   "execution_count": 6,
   "metadata": {},
   "outputs": [
    {
     "name": "stdout",
     "output_type": "stream",
     "text": [
      "18/18 [==============================] - 0s 938us/step - loss: 0.0475 - accuracy: 0.9912\n",
      "\n",
      "Test accuracy: 0.9912280440330505\n"
     ]
    }
   ],
   "source": [
    "test_loss, test_acc = model.evaluate(test_x,  test_y, verbose=1)\n",
    "\n",
    "print('\\nTest accuracy:', test_acc)"
   ]
  },
  {
   "cell_type": "code",
   "execution_count": 7,
   "metadata": {},
   "outputs": [
    {
     "data": {
      "text/plain": [
       "array([0.9947019 , 0.00529802], dtype=float32)"
      ]
     },
     "execution_count": 7,
     "metadata": {},
     "output_type": "execute_result"
    }
   ],
   "source": [
    "probability_model = tf.keras.Sequential([model, \n",
    "                                         tf.keras.layers.Softmax()])\n",
    "predictions = probability_model.predict(test_x)\n",
    "predictions[0]"
   ]
  },
  {
   "cell_type": "code",
   "execution_count": null,
   "metadata": {},
   "outputs": [],
   "source": []
  }
 ],
 "metadata": {
  "kernelspec": {
   "display_name": "Python 3",
   "language": "python",
   "name": "python3"
  },
  "language_info": {
   "codemirror_mode": {
    "name": "ipython",
    "version": 3
   },
   "file_extension": ".py",
   "mimetype": "text/x-python",
   "name": "python",
   "nbconvert_exporter": "python",
   "pygments_lexer": "ipython3",
   "version": "3.8.8"
  }
 },
 "nbformat": 4,
 "nbformat_minor": 4
}
